{
 "cells": [
  {
   "cell_type": "code",
   "execution_count": 161,
   "id": "5177cfc3-a234-427f-8d87-432abd1ed94d",
   "metadata": {},
   "outputs": [],
   "source": [
    "import os\n",
    "import sys\n",
    "os.environ['PYSPARK_PYTHON'] = sys.executable\n",
    "os.environ['PYSPARK_DRIVER_PYTHON'] = sys.executable"
   ]
  },
  {
   "cell_type": "code",
   "execution_count": 177,
   "id": "d8ee0562-5c89-4576-bca9-aeee2b72b847",
   "metadata": {},
   "outputs": [],
   "source": [
    "from pyspark.sql import SparkSession\n",
    "from pyspark.sql.functions import *\n",
    "from datetime import datetime\n",
    "import pandas as pd"
   ]
  },
  {
   "cell_type": "code",
   "execution_count": 165,
   "id": "1189de76-15d3-4e07-a25f-02fd1f20a5b4",
   "metadata": {},
   "outputs": [],
   "source": [
    "spark = SparkSession.builder.appName(\"FinalDZ\").getOrCreate()"
   ]
  },
  {
   "cell_type": "code",
   "execution_count": 179,
   "id": "c51bcbb6-f0be-41e5-a98c-ed61dd994c5e",
   "metadata": {},
   "outputs": [],
   "source": [
    "df = spark.read.option(\"header\", \"true\") \\\n",
    "                   .option(\"inferSchema\", \"true\") \\\n",
    "                   .csv(\"./SampleSuperstore.csv\")"
   ]
  },
  {
   "cell_type": "code",
   "execution_count": 181,
   "id": "48d7c855-6462-428b-b272-165fa0bf5abe",
   "metadata": {},
   "outputs": [
    {
     "data": {
      "text/plain": [
       "'3.5.4'"
      ]
     },
     "execution_count": 181,
     "metadata": {},
     "output_type": "execute_result"
    }
   ],
   "source": [
    "spark.version"
   ]
  },
  {
   "cell_type": "code",
   "execution_count": 183,
   "id": "76a2c6e8-102a-4939-96db-9b64e398ade7",
   "metadata": {},
   "outputs": [
    {
     "name": "stdout",
     "output_type": "stream",
     "text": [
      "+--------------+---------+-------------+---------------+----------+-----------+------+---------------+------------+--------+--------+--------+--------+\n",
      "|     Ship Mode|  Segment|      Country|           City|     State|Postal Code|Region|       Category|Sub-Category|   Sales|Quantity|Discount|  Profit|\n",
      "+--------------+---------+-------------+---------------+----------+-----------+------+---------------+------------+--------+--------+--------+--------+\n",
      "|  Second Class| Consumer|United States|      Henderson|  Kentucky|      42420| South|      Furniture|   Bookcases|  261.96|       2|     0.0| 41.9136|\n",
      "|  Second Class| Consumer|United States|      Henderson|  Kentucky|      42420| South|      Furniture|      Chairs|  731.94|       3|     0.0| 219.582|\n",
      "|  Second Class|Corporate|United States|    Los Angeles|California|      90036|  West|Office Supplies|      Labels|   14.62|       2|     0.0|  6.8714|\n",
      "|Standard Class| Consumer|United States|Fort Lauderdale|   Florida|      33311| South|      Furniture|      Tables|957.5775|       5|    0.45|-383.031|\n",
      "|Standard Class| Consumer|United States|Fort Lauderdale|   Florida|      33311| South|Office Supplies|     Storage|  22.368|       2|     0.2|  2.5164|\n",
      "+--------------+---------+-------------+---------------+----------+-----------+------+---------------+------------+--------+--------+--------+--------+\n",
      "only showing top 5 rows\n",
      "\n"
     ]
    }
   ],
   "source": [
    "df.show(5)"
   ]
  },
  {
   "cell_type": "code",
   "execution_count": 185,
   "id": "ac9c157a-84b5-426a-8026-0f363724cd77",
   "metadata": {},
   "outputs": [
    {
     "name": "stdout",
     "output_type": "stream",
     "text": [
      "2025-10-16\n"
     ]
    }
   ],
   "source": [
    "#Хэщ функция и определение текущей даты\n",
    "def hashing(*columns):\n",
    "    concat_col = concat_ws(\"|\", *columns)\n",
    "    return sha2(concat_col, 256)\n",
    "\n",
    "as_of_day = datetime.now().strftime(\"%Y-%m-%d\")\n",
    "print(as_of_day)"
   ]
  },
  {
   "cell_type": "code",
   "execution_count": 193,
   "id": "2269506f-9798-44d7-ad76-3d4dcf309c91",
   "metadata": {},
   "outputs": [],
   "source": [
    "#Хабы\n",
    "customers_hub = df.select(\n",
    "    \"Segment\", \"City\", \"Postal Code\",\n",
    "    concat_ws(\"_\", \"Segment\", \"City\", \"Postal Code\").alias(\"customer_id\")\n",
    ").distinct() \\\n",
    " .withColumn(\"hk_customer_id\", hashing(\"Segment\", \"City\", \"Postal Code\")) \\\n",
    " .withColumn(\"as_of_day\", lit(as_of_day)) \\\n",
    " .select(\"customer_id\", \"hk_customer_id\", \"as_of_day\")\n",
    "\n",
    "products_hub = df.select(\n",
    "    \"Category\", \"Sub-Category\", \n",
    "    concat_ws(\"_\", \"Category\", \"Sub-Category\").alias(\"product_id\")\n",
    ").distinct() \\\n",
    " .withColumn(\"hk_product_id\", hashing(\"Category\", \"Sub-Category\")) \\\n",
    " .withColumn(\"as_of_day\", lit(as_of_day)) \\\n",
    " .select(\"product_id\", \"hk_product_id\", \"as_of_day\")\n",
    "\n",
    "locations_hub = df.select(\n",
    "    \"City\", \"State\", \"Postal Code\",\n",
    "    concat_ws(\"_\", \"City\", \"State\", \"Postal Code\").alias(\"location_id\")\n",
    ").distinct() \\\n",
    " .withColumn(\"hk_location_id\", hashing(\"City\", \"State\", \"Postal Code\")) \\\n",
    " .withColumn(\"as_of_day\", lit(as_of_day)) \\\n",
    " .select(\"location_id\", \"hk_location_id\", \"as_of_day\")\n",
    "\n",
    "sales_hub = df.select(\n",
    "    \"Ship Mode\", \"Sales\", \"Quantity\",\n",
    "    concat_ws(\"_\", \"Ship Mode\", \"Sales\", \"Quantity\").alias(\"sale_id\")\n",
    ").distinct() \\\n",
    " .withColumn(\"hk_sale_id\", hashing(\"Ship Mode\", \"Sales\", \"Quantity\")) \\\n",
    " .withColumn(\"as_of_day\", lit(as_of_day)) \\\n",
    " .select(\"sale_id\", \"hk_sale_id\", \"as_of_day\")"
   ]
  },
  {
   "cell_type": "code",
   "execution_count": 195,
   "id": "5aef2d2c-9fc8-4c78-aeb1-37808fb7da44",
   "metadata": {},
   "outputs": [],
   "source": [
    "#Линки\n",
    "sales_link = df.select(\n",
    "    \"Segment\", \"City\", \"Postal Code\", \n",
    "    \"Category\", \"Sub-Category\",         \n",
    "    \"City\", \"State\", \"Postal Code\",   \n",
    "    \"Ship Mode\", \"Sales\", \"Quantity\"  \n",
    ").distinct()\n",
    "\n",
    "sales_link = sales_link \\\n",
    "    .withColumn(\"customer_id\", concat_ws(\"_\", \"Segment\", \"City\", \"Postal Code\")) \\\n",
    "    .withColumn(\"product_id\", concat_ws(\"_\", \"Category\", \"Sub-Category\")) \\\n",
    "    .withColumn(\"location_id\", concat_ws(\"_\", \"City\", \"State\", \"Postal Code\")) \\\n",
    "    .withColumn(\"sale_id\", concat_ws(\"_\", \"Ship Mode\", \"Sales\", \"Quantity\")) \\\n",
    "    .withColumn(\"hk_customer_id\", hashing(\"Segment\", \"City\", \"Postal Code\")) \\\n",
    "    .withColumn(\"hk_product_id\", hashing(\"Category\", \"Sub-Category\")) \\\n",
    "    .withColumn(\"hk_location_id\", hashing(\"City\", \"State\", \"Postal Code\")) \\\n",
    "    .withColumn(\"hk_sale_id\", hashing(\"Ship Mode\", \"Sales\", \"Quantity\")) \\\n",
    "    .withColumn(\"link_id\", hashing(\n",
    "        col(\"hk_customer_id\"),\n",
    "        col(\"hk_product_id\"), \n",
    "        col(\"hk_location_id\"),\n",
    "        col(\"hk_sale_id\")\n",
    "    )) \\\n",
    "    .withColumn(\"as_of_day\", lit(as_of_day)) \\\n",
    "    .select(\"link_id\", \"hk_customer_id\", \"hk_product_id\", \"hk_location_id\", \"hk_sale_id\", \"as_of_day\")"
   ]
  },
  {
   "cell_type": "code",
   "execution_count": 197,
   "id": "f7a1e76d-c309-4e4e-838c-d1d223de29eb",
   "metadata": {},
   "outputs": [],
   "source": [
    "#Саттелиты\n",
    "customer_sat = df.select(\n",
    "    \"Segment\", \"City\", \"State\", \"Postal Code\", \"Region\", \"Country\"\n",
    ").distinct() \\\n",
    " .withColumn(\"customer_id\", concat_ws(\"_\", \"Segment\", \"City\", \"Postal Code\")) \\\n",
    " .withColumn(\"hk_customer_id\", hashing(\"Segment\", \"City\", \"Postal Code\")) \\\n",
    " .withColumn(\"as_of_day\", lit(as_of_day)) \\\n",
    " .withColumn(\"hash_diff\", hashing(\"Segment\", \"City\", \"State\", \"Postal Code\", \"Region\", \"Country\")) \\\n",
    " .withColumnRenamed(\"Segment\", \"segment\") \\\n",
    " .withColumnRenamed(\"City\", \"city\") \\\n",
    " .withColumnRenamed(\"State\", \"state\") \\\n",
    " .withColumnRenamed(\"Postal Code\", \"postal_code\") \\\n",
    " .withColumnRenamed(\"Region\", \"region\") \\\n",
    " .withColumnRenamed(\"Country\", \"country\") \\\n",
    " .select(\"hk_customer_id\", \"as_of_day\", \"hash_diff\", \"segment\", \"city\", \"state\", \"postal_code\", \"region\", \"country\")\n",
    "\n",
    "product_sat = df.select(\n",
    "    \"Category\", \"Sub-Category\"\n",
    ").distinct() \\\n",
    " .withColumn(\"product_id\", concat_ws(\"_\", \"Category\", \"Sub-Category\")) \\\n",
    " .withColumn(\"hk_product_id\", hashing(\"Category\", \"Sub-Category\")) \\\n",
    " .withColumn(\"as_of_day\", lit(as_of_day)) \\\n",
    " .withColumn(\"hash_diff\", hashing(\"Category\", \"Sub-Category\")) \\\n",
    " .withColumnRenamed(\"Category\", \"category\") \\\n",
    " .withColumnRenamed(\"Sub-Category\", \"sub_category\") \\\n",
    " .select(\"hk_product_id\", \"as_of_day\", \"hash_diff\", \"category\", \"sub_category\")\n",
    "\n",
    "location_sat = df.select(\n",
    "    \"City\", \"State\", \"Postal Code\", \"Region\", \"Country\"\n",
    ").distinct() \\\n",
    " .withColumn(\"location_id\", concat_ws(\"_\", \"City\", \"State\", \"Postal Code\")) \\\n",
    " .withColumn(\"hk_location_id\", hashing(\"City\", \"State\", \"Postal Code\")) \\\n",
    " .withColumn(\"as_of_day\", lit(as_of_day)) \\\n",
    " .withColumn(\"hash_diff\", hashing(\"City\", \"State\", \"Postal Code\", \"Region\", \"Country\")) \\\n",
    " .withColumnRenamed(\"City\", \"city\") \\\n",
    " .withColumnRenamed(\"State\", \"state\") \\\n",
    " .withColumnRenamed(\"Postal Code\", \"postal_code\") \\\n",
    " .withColumnRenamed(\"Region\", \"region\") \\\n",
    " .withColumnRenamed(\"Country\", \"country\") \\\n",
    " .select(\"hk_location_id\", \"as_of_day\", \"hash_diff\", \"city\", \"state\", \"postal_code\", \"region\", \"country\")\n",
    "\n",
    "sales_sat = df.select(\n",
    "    \"Ship Mode\", \"Sales\", \"Quantity\", \"Discount\", \"Profit\"\n",
    ").distinct() \\\n",
    " .withColumn(\"sale_id\", concat_ws(\"_\", \"Ship Mode\", \"Sales\", \"Quantity\")) \\\n",
    " .withColumn(\"hk_sale_id\", hashing(\"Ship Mode\", \"Sales\", \"Quantity\")) \\\n",
    " .withColumn(\"as_of_day\", lit(as_of_day)) \\\n",
    " .withColumn(\"hash_diff\", hashing(\"Ship Mode\", \"Sales\", \"Quantity\", \"Discount\", \"Profit\")) \\\n",
    " .withColumnRenamed(\"Ship Mode\", \"ship_mode\") \\\n",
    " .withColumnRenamed(\"Sales\", \"sales\") \\\n",
    " .withColumnRenamed(\"Quantity\", \"quantity\") \\\n",
    " .withColumnRenamed(\"Discount\", \"discount\") \\\n",
    " .withColumnRenamed(\"Profit\", \"profit\") \\\n",
    " .select(\"hk_sale_id\", \"as_of_day\", \"hash_diff\", \"ship_mode\", \"sales\", \"quantity\", \"discount\", \"profit\")"
   ]
  },
  {
   "cell_type": "code",
   "execution_count": 199,
   "id": "2ff06303-464a-451f-925c-3c6ff7c2573e",
   "metadata": {},
   "outputs": [],
   "source": [
    "#Сейвим все в отдельные csv\n",
    "\n",
    "# Хабы\n",
    "customers_hub_pd = customers_hub.toPandas().to_csv(f\"./hub_customers.csv\", index=False)\n",
    "\n",
    "products_hub_pd = products_hub.toPandas().to_csv(f\"./hub_products.csv\", index=False)\n",
    "\n",
    "locations_hub_pd = locations_hub.toPandas().to_csv(f\"./hub_locations.csv\", index=False)\n",
    "\n",
    "sales_hub_pd = sales_hub.toPandas().to_csv(f\"./hub_sales.csv\", index=False)\n",
    "\n",
    "# Ссылки\n",
    "sales_link_pd = sales_link.toPandas().to_csv(f\"./link_sales.csv\", index=False)\n",
    "\n",
    "# Саттелиты\n",
    "customer_sat_pd = customer_sat.toPandas().to_csv(f\"./sat_customers.csv\", index=False)\n",
    "\n",
    "product_sat_pd = product_sat.toPandas().to_csv(f\"./sat_products.csv\", index=False)\n",
    "\n",
    "location_sat_pd = location_sat.toPandas().to_csv(f\"./sat_locations.csv\", index=False)\n",
    "\n",
    "sales_sat_pd = sales_sat.toPandas().to_csv(f\"./sat_sales.csv\", index=False)"
   ]
  },
  {
   "cell_type": "code",
   "execution_count": 201,
   "id": "af2aeb78-18b6-443e-a8ca-daa98b86a368",
   "metadata": {},
   "outputs": [],
   "source": [
    "spark.stop()"
   ]
  }
 ],
 "metadata": {
  "kernelspec": {
   "display_name": "Python 3 (ipykernel)",
   "language": "python",
   "name": "python3"
  },
  "language_info": {
   "codemirror_mode": {
    "name": "ipython",
    "version": 3
   },
   "file_extension": ".py",
   "mimetype": "text/x-python",
   "name": "python",
   "nbconvert_exporter": "python",
   "pygments_lexer": "ipython3",
   "version": "3.12.7"
  }
 },
 "nbformat": 4,
 "nbformat_minor": 5
}
